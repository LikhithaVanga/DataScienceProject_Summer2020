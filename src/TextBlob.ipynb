{
 "cells": [
  {
   "cell_type": "code",
   "execution_count": 1,
   "metadata": {},
   "outputs": [],
   "source": [
    "import pandas as pd\n",
    "import numpy as np\n",
    "import re\n",
    "import tweepy\n",
    "import datetime\n",
    "from pandas_datareader import data as web\n",
    "from textblob import TextBlob\n",
    "from sklearn.svm import SVR\n",
    "from treeinterpreter import treeinterpreter as ti\n",
    "from sklearn.ensemble import RandomForestRegressor\n",
    "import matplotlib.pyplot as plt\n",
    "from sklearn.model_selection import train_test_split"
   ]
  },
  {
   "cell_type": "code",
   "execution_count": 2,
   "metadata": {},
   "outputs": [
    {
     "name": "stdout",
     "output_type": "stream",
     "text": [
      "Created CSV\n"
     ]
    }
   ],
   "source": [
    "consumer_key = \"W8olFrRLK7Lt7BUh6YAbdSG4h\"\n",
    "consumer_secret = \"izRdiwC73rntSdMdAQm2gL8zFNAHVLa99A8dI99w0Lz16jvNrx\"\n",
    "\n",
    "access_token = \"620364433-Kj5up6bB6KLfl5wfmxxcAnWthse5o38P2MKABM00\"\n",
    "access_token_secret = \"Faxxv0hb54KF7MmakQ8WZmvaCC5YIprcWhiOuEyQY2iLt\"\n",
    "\n",
    "auth = tweepy.OAuthHandler(consumer_key, consumer_secret)\n",
    "auth.set_access_token(access_token, access_token_secret)\n",
    "api = tweepy.API(auth,wait_on_rate_limit=True)\n",
    "\n",
    "fetch_tweets=tweepy.Cursor(api.search, q=\"#TSLA\",count=100, lang =\"en\",since=\"2019-9-25\", tweet_mode=\"extended\").items()\n",
    "data=pd.DataFrame(data=[[tweet_info.created_at.date(),tweet_info.full_text]for tweet_info in fetch_tweets],columns=['Date','Tweets'])\n",
    "\n",
    "data.to_csv(\"TeslaTweets.csv\")\n",
    "cdata=pd.DataFrame(columns=['Date','Tweets'])\n",
    "print(\"Created CSV\")"
   ]
  },
  {
   "cell_type": "code",
   "execution_count": 3,
   "metadata": {},
   "outputs": [],
   "source": [
    "data = pd.read_csv('C:/Users/prane/Desktop/Likhitha/Summer_2020/DataScience/FinalProject/Elontweets.csv')"
   ]
  },
  {
   "cell_type": "code",
   "execution_count": 4,
   "metadata": {},
   "outputs": [
    {
     "name": "stdout",
     "output_type": "stream",
     "text": [
      "2224\n"
     ]
    }
   ],
   "source": [
    "cdata=pd.DataFrame(columns=['Date','Tweets'])\n",
    "print(len(data))"
   ]
  },
  {
   "cell_type": "code",
   "execution_count": 5,
   "metadata": {},
   "outputs": [],
   "source": [
    "##clean up the tweets\n",
    "index=0\n",
    "for index,row in data.iterrows():\n",
    "    stre=row[\"Tweets\"]\n",
    "    my_new_string = re.sub('[^ a-zA-Z0-9]', '', stre)\n",
    "    cdata.sort_index()\n",
    "    cdata.at[index,'Date'] =row[\"Date\"]\n",
    "    cdata.at[index,'Tweets']= my_new_string\n",
    "    #index=index+1\n",
    "ccdata=pd.DataFrame(columns=['Date','Tweets'])"
   ]
  },
  {
   "cell_type": "code",
   "execution_count": 6,
   "metadata": {},
   "outputs": [],
   "source": [
    "indx=0\n",
    "get_tweet=\"\"\n",
    "for i in range(0,len(cdata)-1):\n",
    "    get_date=cdata.Date.iloc[i]\n",
    "    next_date=cdata.Date.iloc[i+1]\n",
    "    if(str(get_date)==str(next_date)):\n",
    "        get_tweet=get_tweet+cdata.Tweets.iloc[i]+\" \"\n",
    "    if(str(get_date)!=str(next_date)):\n",
    "        ccdata.at[indx,'Date']=get_date\n",
    "        ccdata.at[indx,'Tweets']=get_tweet\n",
    "        indx+=1\n",
    "        get_tweet=\" \""
   ]
  },
  {
   "cell_type": "code",
   "execution_count": 7,
   "metadata": {},
   "outputs": [
    {
     "data": {
      "text/html": [
       "<div>\n",
       "<style scoped>\n",
       "    .dataframe tbody tr th:only-of-type {\n",
       "        vertical-align: middle;\n",
       "    }\n",
       "\n",
       "    .dataframe tbody tr th {\n",
       "        vertical-align: top;\n",
       "    }\n",
       "\n",
       "    .dataframe thead th {\n",
       "        text-align: right;\n",
       "    }\n",
       "</style>\n",
       "<table border=\"1\" class=\"dataframe\">\n",
       "  <thead>\n",
       "    <tr style=\"text-align: right;\">\n",
       "      <th></th>\n",
       "      <th>Unnamed: 0</th>\n",
       "      <th>Date</th>\n",
       "      <th>Tweets</th>\n",
       "    </tr>\n",
       "  </thead>\n",
       "  <tbody>\n",
       "    <tr>\n",
       "      <th>0</th>\n",
       "      <td>0</td>\n",
       "      <td>9/29/2017</td>\n",
       "      <td>MeltingIce Assuming max acceleration of 2 to 3...</td>\n",
       "    </tr>\n",
       "    <tr>\n",
       "      <th>1</th>\n",
       "      <td>1</td>\n",
       "      <td>9/28/2017</td>\n",
       "      <td>kevinroose Just another day in the office Fas...</td>\n",
       "    </tr>\n",
       "    <tr>\n",
       "      <th>2</th>\n",
       "      <td>2</td>\n",
       "      <td>9/27/2017</td>\n",
       "      <td>Prev ideas for paying 10B dev cost incl Kicks...</td>\n",
       "    </tr>\n",
       "    <tr>\n",
       "      <th>3</th>\n",
       "      <td>3</td>\n",
       "      <td>9/26/2017</td>\n",
       "      <td>ElDeano Daimler Jalopnik Yes I did  Good NYT ...</td>\n",
       "    </tr>\n",
       "    <tr>\n",
       "      <th>4</th>\n",
       "      <td>4</td>\n",
       "      <td>9/25/2017</td>\n",
       "      <td>Daimler Good Major improvements  some unexpec...</td>\n",
       "    </tr>\n",
       "  </tbody>\n",
       "</table>\n",
       "</div>"
      ],
      "text/plain": [
       "   Unnamed: 0       Date                                             Tweets\n",
       "0           0  9/29/2017  MeltingIce Assuming max acceleration of 2 to 3...\n",
       "1           1  9/28/2017   kevinroose Just another day in the office Fas...\n",
       "2           2  9/27/2017   Prev ideas for paying 10B dev cost incl Kicks...\n",
       "3           3  9/26/2017   ElDeano Daimler Jalopnik Yes I did  Good NYT ...\n",
       "4           4  9/25/2017   Daimler Good Major improvements  some unexpec..."
      ]
     },
     "execution_count": 7,
     "metadata": {},
     "output_type": "execute_result"
    }
   ],
   "source": [
    "ccdata = pd.read_csv('C:/Users/prane/Desktop/Likhitha/Summer_2020/DataScience/FinalProject/Tesla_tweets_old.csv')\n",
    "ccdata.head()"
   ]
  },
  {
   "cell_type": "code",
   "execution_count": 8,
   "metadata": {},
   "outputs": [
    {
     "name": "stdout",
     "output_type": "stream",
     "text": [
      "% of positive tweets=  87.97814207650273\n",
      "% of negative tweets=  12.021857923497267\n"
     ]
    },
    {
     "data": {
      "text/plain": [
       "[]"
      ]
     },
     "execution_count": 8,
     "metadata": {},
     "output_type": "execute_result"
    },
    {
     "data": {
      "image/png": "[encoded data removed]",
      "text/plain": [
       "<Figure size 432x288 with 1 Axes>"
      ]
     },
     "metadata": {},
     "output_type": "display_data"
    }
   ],
   "source": [
    "ccdata['polarity'] = 0.0000\n",
    "ccdata['confidence'] =0.0000\n",
    "for index,row in ccdata.iterrows():\n",
    "    analysis = TextBlob(ccdata['Tweets'][index])\n",
    "    sentiment, confidence  = analysis.sentiment\n",
    "    ccdata.at[index,'polarity'] = sentiment\n",
    "    ccdata.at[index,'confidence'] = confidence\n",
    "    \n",
    "posi=0\n",
    "nega=0\n",
    "for i in range (0,len(ccdata)):\n",
    "    get_val=ccdata['polarity'][i]\n",
    "    if(float(get_val)<(0)):\n",
    "        nega=nega+1\n",
    "    else:\n",
    "        posi=posi+1\n",
    "        \n",
    "posper=(posi/(len(ccdata)))*100\n",
    "negper=(nega/(len(ccdata)))*100\n",
    "print(\"% of positive tweets= \",posper)\n",
    "print(\"% of negative tweets= \",negper)\n",
    "arr=np.asarray([posper,negper], dtype=int)\n",
    "plt.pie(arr,labels=['positive','negative'])\n",
    "plt.plot()"
   ]
  },
  {
   "cell_type": "code",
   "execution_count": 9,
   "metadata": {},
   "outputs": [],
   "source": [
    "start = datetime.datetime(2012,10,26)\n",
    "## Let's get Tesla stock data; Tesla's ticker symbol is TSLA\n",
    "## First argument is the series we want, second is the source (\"yahoo\" for Yahoo! Finance), third is the start date, \n",
    "##fourth is the end date\n",
    "tesla = web.DataReader('TSLA', 'yahoo', start)\n",
    "#tesla.to_csv('TESLA_stock_price.csv')"
   ]
  },
  {
   "cell_type": "code",
   "execution_count": 10,
   "metadata": {},
   "outputs": [
    {
     "data": {
      "text/html": [
       "<div>\n",
       "<style scoped>\n",
       "    .dataframe tbody tr th:only-of-type {\n",
       "        vertical-align: middle;\n",
       "    }\n",
       "\n",
       "    .dataframe tbody tr th {\n",
       "        vertical-align: top;\n",
       "    }\n",
       "\n",
       "    .dataframe thead th {\n",
       "        text-align: right;\n",
       "    }\n",
       "</style>\n",
       "<table border=\"1\" class=\"dataframe\">\n",
       "  <thead>\n",
       "    <tr style=\"text-align: right;\">\n",
       "      <th></th>\n",
       "      <th>Date</th>\n",
       "      <th>High</th>\n",
       "      <th>Low</th>\n",
       "      <th>Open</th>\n",
       "      <th>Close</th>\n",
       "      <th>Volume</th>\n",
       "      <th>Adj Close</th>\n",
       "    </tr>\n",
       "  </thead>\n",
       "  <tbody>\n",
       "    <tr>\n",
       "      <th>0</th>\n",
       "      <td>10/26/2012</td>\n",
       "      <td>27.799999</td>\n",
       "      <td>27.020000</td>\n",
       "      <td>27.530001</td>\n",
       "      <td>27.379999</td>\n",
       "      <td>477400</td>\n",
       "      <td>27.379999</td>\n",
       "    </tr>\n",
       "    <tr>\n",
       "      <th>1</th>\n",
       "      <td>10/31/2012</td>\n",
       "      <td>28.350000</td>\n",
       "      <td>27.370001</td>\n",
       "      <td>27.700001</td>\n",
       "      <td>28.129999</td>\n",
       "      <td>775200</td>\n",
       "      <td>28.129999</td>\n",
       "    </tr>\n",
       "    <tr>\n",
       "      <th>2</th>\n",
       "      <td>11/1/2012</td>\n",
       "      <td>29.490000</td>\n",
       "      <td>28.200001</td>\n",
       "      <td>28.250000</td>\n",
       "      <td>29.250000</td>\n",
       "      <td>1024100</td>\n",
       "      <td>29.250000</td>\n",
       "    </tr>\n",
       "    <tr>\n",
       "      <th>3</th>\n",
       "      <td>11/2/2012</td>\n",
       "      <td>29.549999</td>\n",
       "      <td>28.549999</td>\n",
       "      <td>29.270000</td>\n",
       "      <td>28.920000</td>\n",
       "      <td>1030300</td>\n",
       "      <td>28.920000</td>\n",
       "    </tr>\n",
       "    <tr>\n",
       "      <th>4</th>\n",
       "      <td>11/5/2012</td>\n",
       "      <td>31.580000</td>\n",
       "      <td>29.330000</td>\n",
       "      <td>29.799999</td>\n",
       "      <td>31.500000</td>\n",
       "      <td>2048900</td>\n",
       "      <td>31.500000</td>\n",
       "    </tr>\n",
       "  </tbody>\n",
       "</table>\n",
       "</div>"
      ],
      "text/plain": [
       "         Date       High        Low       Open      Close   Volume  Adj Close\n",
       "0  10/26/2012  27.799999  27.020000  27.530001  27.379999   477400  27.379999\n",
       "1  10/31/2012  28.350000  27.370001  27.700001  28.129999   775200  28.129999\n",
       "2   11/1/2012  29.490000  28.200001  28.250000  29.250000  1024100  29.250000\n",
       "3   11/2/2012  29.549999  28.549999  29.270000  28.920000  1030300  28.920000\n",
       "4   11/5/2012  31.580000  29.330000  29.799999  31.500000  2048900  31.500000"
      ]
     },
     "execution_count": 10,
     "metadata": {},
     "output_type": "execute_result"
    }
   ],
   "source": [
    "\n",
    "read_stock_p=pd.read_csv('C:/Users/prane/Desktop/Likhitha/Summer_2020/DataScience/FinalProject/tesla_stock_price.csv')\n",
    "read_stock_p.head()"
   ]
  },
  {
   "cell_type": "code",
   "execution_count": 11,
   "metadata": {},
   "outputs": [],
   "source": [
    "ccdata['Prices']=\"\"\n",
    "indx=0\n",
    "for i in range (0,len(ccdata)):\n",
    "    for j in range (0,len(read_stock_p)):\n",
    "        get_tweet_date=ccdata.Date.iloc[i]\n",
    "        get_stock_date=read_stock_p.Date.iloc[j]             \n",
    "        if(str(get_stock_date)==str(get_tweet_date)):\n",
    "            #print(get_stock_date,\" \",get_tweet_date)\n",
    "            ccdata.at[i,'Prices']=int(read_stock_p.Close[j])\n",
    "            break"
   ]
  },
  {
   "cell_type": "code",
   "execution_count": 12,
   "metadata": {},
   "outputs": [
    {
     "data": {
      "text/plain": [
       "'Show that there are some empty fields for days when stock Market is closed'"
      ]
     },
     "execution_count": 12,
     "metadata": {},
     "output_type": "execute_result"
    }
   ],
   "source": [
    "\"\"\"Show that there are some empty fields for days when stock Market is closed\"\"\""
   ]
  },
  {
   "cell_type": "code",
   "execution_count": 13,
   "metadata": {},
   "outputs": [
    {
     "data": {
      "text/html": [
       "<div>\n",
       "<style scoped>\n",
       "    .dataframe tbody tr th:only-of-type {\n",
       "        vertical-align: middle;\n",
       "    }\n",
       "\n",
       "    .dataframe tbody tr th {\n",
       "        vertical-align: top;\n",
       "    }\n",
       "\n",
       "    .dataframe thead th {\n",
       "        text-align: right;\n",
       "    }\n",
       "</style>\n",
       "<table border=\"1\" class=\"dataframe\">\n",
       "  <thead>\n",
       "    <tr style=\"text-align: right;\">\n",
       "      <th></th>\n",
       "      <th>Unnamed: 0</th>\n",
       "      <th>Date</th>\n",
       "      <th>Tweets</th>\n",
       "      <th>polarity</th>\n",
       "      <th>confidence</th>\n",
       "      <th>Prices</th>\n",
       "    </tr>\n",
       "  </thead>\n",
       "  <tbody>\n",
       "    <tr>\n",
       "      <th>0</th>\n",
       "      <td>0</td>\n",
       "      <td>9/29/2017</td>\n",
       "      <td>MeltingIce Assuming max acceleration of 2 to 3...</td>\n",
       "      <td>0.156151</td>\n",
       "      <td>0.432341</td>\n",
       "      <td>341</td>\n",
       "    </tr>\n",
       "    <tr>\n",
       "      <th>1</th>\n",
       "      <td>1</td>\n",
       "      <td>9/28/2017</td>\n",
       "      <td>kevinroose Just another day in the office Fas...</td>\n",
       "      <td>0.500000</td>\n",
       "      <td>0.600000</td>\n",
       "      <td>339</td>\n",
       "    </tr>\n",
       "    <tr>\n",
       "      <th>2</th>\n",
       "      <td>2</td>\n",
       "      <td>9/27/2017</td>\n",
       "      <td>Prev ideas for paying 10B dev cost incl Kicks...</td>\n",
       "      <td>-0.133333</td>\n",
       "      <td>0.233333</td>\n",
       "      <td>340</td>\n",
       "    </tr>\n",
       "    <tr>\n",
       "      <th>3</th>\n",
       "      <td>3</td>\n",
       "      <td>9/26/2017</td>\n",
       "      <td>ElDeano Daimler Jalopnik Yes I did  Good NYT ...</td>\n",
       "      <td>0.350000</td>\n",
       "      <td>0.300000</td>\n",
       "      <td>345</td>\n",
       "    </tr>\n",
       "    <tr>\n",
       "      <th>4</th>\n",
       "      <td>4</td>\n",
       "      <td>9/25/2017</td>\n",
       "      <td>Daimler Good Major improvements  some unexpec...</td>\n",
       "      <td>0.287500</td>\n",
       "      <td>0.700000</td>\n",
       "      <td>344</td>\n",
       "    </tr>\n",
       "    <tr>\n",
       "      <th>5</th>\n",
       "      <td>9</td>\n",
       "      <td>9/16/2017</td>\n",
       "      <td>Richwsadler Does my hivemind count as me Bobb...</td>\n",
       "      <td>-0.125000</td>\n",
       "      <td>0.250000</td>\n",
       "      <td></td>\n",
       "    </tr>\n",
       "    <tr>\n",
       "      <th>6</th>\n",
       "      <td>11</td>\n",
       "      <td>9/14/2017</td>\n",
       "      <td>High res version at httpstcoYysKftHhoz jovani...</td>\n",
       "      <td>0.187143</td>\n",
       "      <td>0.305714</td>\n",
       "      <td>377</td>\n",
       "    </tr>\n",
       "    <tr>\n",
       "      <th>7</th>\n",
       "      <td>13</td>\n",
       "      <td>9/12/2017</td>\n",
       "      <td>RT Gizmodo Hackers have already started to we...</td>\n",
       "      <td>-0.600000</td>\n",
       "      <td>1.000000</td>\n",
       "      <td>362</td>\n",
       "    </tr>\n",
       "  </tbody>\n",
       "</table>\n",
       "</div>"
      ],
      "text/plain": [
       "   Unnamed: 0       Date                                             Tweets  \\\n",
       "0           0  9/29/2017  MeltingIce Assuming max acceleration of 2 to 3...   \n",
       "1           1  9/28/2017   kevinroose Just another day in the office Fas...   \n",
       "2           2  9/27/2017   Prev ideas for paying 10B dev cost incl Kicks...   \n",
       "3           3  9/26/2017   ElDeano Daimler Jalopnik Yes I did  Good NYT ...   \n",
       "4           4  9/25/2017   Daimler Good Major improvements  some unexpec...   \n",
       "5           9  9/16/2017   Richwsadler Does my hivemind count as me Bobb...   \n",
       "6          11  9/14/2017   High res version at httpstcoYysKftHhoz jovani...   \n",
       "7          13  9/12/2017   RT Gizmodo Hackers have already started to we...   \n",
       "\n",
       "   polarity  confidence Prices  \n",
       "0  0.156151    0.432341    341  \n",
       "1  0.500000    0.600000    339  \n",
       "2 -0.133333    0.233333    340  \n",
       "3  0.350000    0.300000    345  \n",
       "4  0.287500    0.700000    344  \n",
       "5 -0.125000    0.250000         \n",
       "6  0.187143    0.305714    377  \n",
       "7 -0.600000    1.000000    362  "
      ]
     },
     "execution_count": 13,
     "metadata": {},
     "output_type": "execute_result"
    }
   ],
   "source": [
    "ccdata.head(8)"
   ]
  },
  {
   "cell_type": "code",
   "execution_count": 14,
   "metadata": {},
   "outputs": [
    {
     "name": "stderr",
     "output_type": "stream",
     "text": [
      "C:\\Users\\prane\\.conda\\envs\\tensorflow\\lib\\site-packages\\pandas\\core\\indexing.py:190: SettingWithCopyWarning: \n",
      "A value is trying to be set on a copy of a slice from a DataFrame\n",
      "\n",
      "See the caveats in the documentation: http://pandas.pydata.org/pandas-docs/stable/indexing.html#indexing-view-versus-copy\n",
      "  self._setitem_with_indexer(indexer, value)\n"
     ]
    }
   ],
   "source": [
    "\"\"\"Filling empty price with previous day price\"\"\"\n",
    "for i in range(1,len(ccdata)):\n",
    "    if(ccdata.Prices.iloc[i]==\"\"):\n",
    "            ccdata.Prices.iloc[i]=int(ccdata.Prices.iloc[i-1])\n",
    "\n",
    "#ccdata['Prices'] = ccdata['Prices'].apply(np.int64)"
   ]
  },
  {
   "cell_type": "code",
   "execution_count": 15,
   "metadata": {},
   "outputs": [
    {
     "data": {
      "text/plain": [
       "549"
      ]
     },
     "execution_count": 15,
     "metadata": {},
     "output_type": "execute_result"
    }
   ],
   "source": [
    "ccdata.head(6)\n",
    "len(ccdata)"
   ]
  },
  {
   "cell_type": "code",
   "execution_count": 16,
   "metadata": {},
   "outputs": [
    {
     "name": "stdout",
     "output_type": "stream",
     "text": [
      "549\n"
     ]
    },
    {
     "data": {
      "text/html": [
       "<div>\n",
       "<style scoped>\n",
       "    .dataframe tbody tr th:only-of-type {\n",
       "        vertical-align: middle;\n",
       "    }\n",
       "\n",
       "    .dataframe tbody tr th {\n",
       "        vertical-align: top;\n",
       "    }\n",
       "\n",
       "    .dataframe thead th {\n",
       "        text-align: right;\n",
       "    }\n",
       "</style>\n",
       "<table border=\"1\" class=\"dataframe\">\n",
       "  <thead>\n",
       "    <tr style=\"text-align: right;\">\n",
       "      <th></th>\n",
       "      <th>Unnamed: 0</th>\n",
       "      <th>Date</th>\n",
       "      <th>Tweets</th>\n",
       "      <th>polarity</th>\n",
       "      <th>confidence</th>\n",
       "      <th>Prices</th>\n",
       "      <th>percentchange</th>\n",
       "    </tr>\n",
       "  </thead>\n",
       "  <tbody>\n",
       "    <tr>\n",
       "      <th>0</th>\n",
       "      <td>0</td>\n",
       "      <td>9/29/2017</td>\n",
       "      <td>MeltingIce Assuming max acceleration of 2 to 3...</td>\n",
       "      <td>0.156151</td>\n",
       "      <td>0.432341</td>\n",
       "      <td>341</td>\n",
       "      <td>0.005865</td>\n",
       "    </tr>\n",
       "    <tr>\n",
       "      <th>1</th>\n",
       "      <td>1</td>\n",
       "      <td>9/28/2017</td>\n",
       "      <td>kevinroose Just another day in the office Fas...</td>\n",
       "      <td>0.500000</td>\n",
       "      <td>0.600000</td>\n",
       "      <td>339</td>\n",
       "      <td>-0.002950</td>\n",
       "    </tr>\n",
       "    <tr>\n",
       "      <th>2</th>\n",
       "      <td>2</td>\n",
       "      <td>9/27/2017</td>\n",
       "      <td>Prev ideas for paying 10B dev cost incl Kicks...</td>\n",
       "      <td>-0.133333</td>\n",
       "      <td>0.233333</td>\n",
       "      <td>340</td>\n",
       "      <td>-0.014706</td>\n",
       "    </tr>\n",
       "    <tr>\n",
       "      <th>3</th>\n",
       "      <td>3</td>\n",
       "      <td>9/26/2017</td>\n",
       "      <td>ElDeano Daimler Jalopnik Yes I did  Good NYT ...</td>\n",
       "      <td>0.350000</td>\n",
       "      <td>0.300000</td>\n",
       "      <td>345</td>\n",
       "      <td>0.002899</td>\n",
       "    </tr>\n",
       "    <tr>\n",
       "      <th>4</th>\n",
       "      <td>4</td>\n",
       "      <td>9/25/2017</td>\n",
       "      <td>Daimler Good Major improvements  some unexpec...</td>\n",
       "      <td>0.287500</td>\n",
       "      <td>0.700000</td>\n",
       "      <td>344</td>\n",
       "      <td>0.000000</td>\n",
       "    </tr>\n",
       "  </tbody>\n",
       "</table>\n",
       "</div>"
      ],
      "text/plain": [
       "   Unnamed: 0       Date                                             Tweets  \\\n",
       "0           0  9/29/2017  MeltingIce Assuming max acceleration of 2 to 3...   \n",
       "1           1  9/28/2017   kevinroose Just another day in the office Fas...   \n",
       "2           2  9/27/2017   Prev ideas for paying 10B dev cost incl Kicks...   \n",
       "3           3  9/26/2017   ElDeano Daimler Jalopnik Yes I did  Good NYT ...   \n",
       "4           4  9/25/2017   Daimler Good Major improvements  some unexpec...   \n",
       "\n",
       "   polarity  confidence  Prices  percentchange  \n",
       "0  0.156151    0.432341     341       0.005865  \n",
       "1  0.500000    0.600000     339      -0.002950  \n",
       "2 -0.133333    0.233333     340      -0.014706  \n",
       "3  0.350000    0.300000     345       0.002899  \n",
       "4  0.287500    0.700000     344       0.000000  "
      ]
     },
     "execution_count": 16,
     "metadata": {},
     "output_type": "execute_result"
    }
   ],
   "source": [
    "ccdata['percentchange'] = 0.0000\n",
    "print(len(ccdata))\n",
    "for i in range(len(ccdata)-1,0,-1):\n",
    "    ccdata.at[i-1,'percentchange']=float((ccdata.Prices.iloc[i-1]-ccdata.Prices.iloc[i])/ccdata.Prices.iloc[i-1])\n",
    "\n",
    "#ccdata['percent change'] = ccdata['percent change'].apply(np.float)\n",
    "ccdata.head()"
   ]
  },
  {
   "cell_type": "code",
   "execution_count": 17,
   "metadata": {},
   "outputs": [],
   "source": [
    "ccdata.to_csv(\"Tesla_tweets_with_stocks_old.csv\")"
   ]
  },
  {
   "cell_type": "code",
   "execution_count": 18,
   "metadata": {},
   "outputs": [
    {
     "data": {
      "text/html": [
       "<div>\n",
       "<style scoped>\n",
       "    .dataframe tbody tr th:only-of-type {\n",
       "        vertical-align: middle;\n",
       "    }\n",
       "\n",
       "    .dataframe tbody tr th {\n",
       "        vertical-align: top;\n",
       "    }\n",
       "\n",
       "    .dataframe thead th {\n",
       "        text-align: right;\n",
       "    }\n",
       "</style>\n",
       "<table border=\"1\" class=\"dataframe\">\n",
       "  <thead>\n",
       "    <tr style=\"text-align: right;\">\n",
       "      <th></th>\n",
       "      <th>Unnamed: 0</th>\n",
       "      <th>Date</th>\n",
       "      <th>Tweets</th>\n",
       "      <th>polarity</th>\n",
       "      <th>confidence</th>\n",
       "      <th>Prices</th>\n",
       "      <th>percentchange</th>\n",
       "    </tr>\n",
       "  </thead>\n",
       "  <tbody>\n",
       "    <tr>\n",
       "      <th>0</th>\n",
       "      <td>0</td>\n",
       "      <td>9/29/2017</td>\n",
       "      <td>MeltingIce Assuming max acceleration of 2 to 3...</td>\n",
       "      <td>0.156151</td>\n",
       "      <td>0.432341</td>\n",
       "      <td>341</td>\n",
       "      <td>0.005865</td>\n",
       "    </tr>\n",
       "    <tr>\n",
       "      <th>1</th>\n",
       "      <td>1</td>\n",
       "      <td>9/28/2017</td>\n",
       "      <td>kevinroose Just another day in the office Fas...</td>\n",
       "      <td>0.500000</td>\n",
       "      <td>0.600000</td>\n",
       "      <td>339</td>\n",
       "      <td>-0.002950</td>\n",
       "    </tr>\n",
       "    <tr>\n",
       "      <th>2</th>\n",
       "      <td>2</td>\n",
       "      <td>9/27/2017</td>\n",
       "      <td>Prev ideas for paying 10B dev cost incl Kicks...</td>\n",
       "      <td>-0.133333</td>\n",
       "      <td>0.233333</td>\n",
       "      <td>340</td>\n",
       "      <td>-0.014706</td>\n",
       "    </tr>\n",
       "    <tr>\n",
       "      <th>3</th>\n",
       "      <td>3</td>\n",
       "      <td>9/26/2017</td>\n",
       "      <td>ElDeano Daimler Jalopnik Yes I did  Good NYT ...</td>\n",
       "      <td>0.350000</td>\n",
       "      <td>0.300000</td>\n",
       "      <td>345</td>\n",
       "      <td>0.002899</td>\n",
       "    </tr>\n",
       "    <tr>\n",
       "      <th>4</th>\n",
       "      <td>4</td>\n",
       "      <td>9/25/2017</td>\n",
       "      <td>Daimler Good Major improvements  some unexpec...</td>\n",
       "      <td>0.287500</td>\n",
       "      <td>0.700000</td>\n",
       "      <td>344</td>\n",
       "      <td>0.000000</td>\n",
       "    </tr>\n",
       "  </tbody>\n",
       "</table>\n",
       "</div>"
      ],
      "text/plain": [
       "   Unnamed: 0       Date                                             Tweets  \\\n",
       "0           0  9/29/2017  MeltingIce Assuming max acceleration of 2 to 3...   \n",
       "1           1  9/28/2017   kevinroose Just another day in the office Fas...   \n",
       "2           2  9/27/2017   Prev ideas for paying 10B dev cost incl Kicks...   \n",
       "3           3  9/26/2017   ElDeano Daimler Jalopnik Yes I did  Good NYT ...   \n",
       "4           4  9/25/2017   Daimler Good Major improvements  some unexpec...   \n",
       "\n",
       "   polarity  confidence  Prices  percentchange  \n",
       "0  0.156151    0.432341     341       0.005865  \n",
       "1  0.500000    0.600000     339      -0.002950  \n",
       "2 -0.133333    0.233333     340      -0.014706  \n",
       "3  0.350000    0.300000     345       0.002899  \n",
       "4  0.287500    0.700000     344       0.000000  "
      ]
     },
     "execution_count": 18,
     "metadata": {},
     "output_type": "execute_result"
    }
   ],
   "source": [
    "ccdata.head()"
   ]
  },
  {
   "cell_type": "code",
   "execution_count": 19,
   "metadata": {},
   "outputs": [],
   "source": [
    "dataframe=ccdata[['Date','Prices','polarity','confidence','percentchange']].copy()"
   ]
  },
  {
   "cell_type": "code",
   "execution_count": 20,
   "metadata": {},
   "outputs": [],
   "source": [
    "#Divide data into train and test \n",
    "train_data_start = 200\n",
    "train_data_end = 549\n",
    "test_data_start = 0\n",
    "test_data_end = 199\n",
    "train = dataframe.iloc[train_data_start: train_data_end]\n",
    "test = dataframe.iloc[test_data_start:test_data_end]"
   ]
  },
  {
   "cell_type": "code",
   "execution_count": 21,
   "metadata": {},
   "outputs": [
    {
     "data": {
      "text/html": [
       "<div>\n",
       "<style scoped>\n",
       "    .dataframe tbody tr th:only-of-type {\n",
       "        vertical-align: middle;\n",
       "    }\n",
       "\n",
       "    .dataframe tbody tr th {\n",
       "        vertical-align: top;\n",
       "    }\n",
       "\n",
       "    .dataframe thead th {\n",
       "        text-align: right;\n",
       "    }\n",
       "</style>\n",
       "<table border=\"1\" class=\"dataframe\">\n",
       "  <thead>\n",
       "    <tr style=\"text-align: right;\">\n",
       "      <th></th>\n",
       "      <th>Date</th>\n",
       "      <th>Prices</th>\n",
       "      <th>polarity</th>\n",
       "      <th>confidence</th>\n",
       "      <th>percentchange</th>\n",
       "    </tr>\n",
       "  </thead>\n",
       "  <tbody>\n",
       "    <tr>\n",
       "      <th>200</th>\n",
       "      <td>9/9/2016</td>\n",
       "      <td>194</td>\n",
       "      <td>0.115278</td>\n",
       "      <td>0.405556</td>\n",
       "      <td>-0.030928</td>\n",
       "    </tr>\n",
       "    <tr>\n",
       "      <th>201</th>\n",
       "      <td>9/1/2016</td>\n",
       "      <td>200</td>\n",
       "      <td>0.000000</td>\n",
       "      <td>0.000000</td>\n",
       "      <td>-0.060000</td>\n",
       "    </tr>\n",
       "    <tr>\n",
       "      <th>202</th>\n",
       "      <td>8/31/2016</td>\n",
       "      <td>212</td>\n",
       "      <td>0.201389</td>\n",
       "      <td>0.422222</td>\n",
       "      <td>0.004717</td>\n",
       "    </tr>\n",
       "    <tr>\n",
       "      <th>203</th>\n",
       "      <td>8/30/2016</td>\n",
       "      <td>211</td>\n",
       "      <td>0.000000</td>\n",
       "      <td>0.400000</td>\n",
       "      <td>-0.018957</td>\n",
       "    </tr>\n",
       "    <tr>\n",
       "      <th>204</th>\n",
       "      <td>8/29/2016</td>\n",
       "      <td>215</td>\n",
       "      <td>0.500000</td>\n",
       "      <td>0.500000</td>\n",
       "      <td>0.000000</td>\n",
       "    </tr>\n",
       "  </tbody>\n",
       "</table>\n",
       "</div>"
      ],
      "text/plain": [
       "          Date  Prices  polarity  confidence  percentchange\n",
       "200   9/9/2016     194  0.115278    0.405556      -0.030928\n",
       "201   9/1/2016     200  0.000000    0.000000      -0.060000\n",
       "202  8/31/2016     212  0.201389    0.422222       0.004717\n",
       "203  8/30/2016     211  0.000000    0.400000      -0.018957\n",
       "204  8/29/2016     215  0.500000    0.500000       0.000000"
      ]
     },
     "execution_count": 21,
     "metadata": {},
     "output_type": "execute_result"
    }
   ],
   "source": [
    "train.head()"
   ]
  },
  {
   "cell_type": "code",
   "execution_count": 22,
   "metadata": {},
   "outputs": [],
   "source": [
    "train1 = train.to_numpy()\n",
    "test1 = test.to_numpy()\n",
    "numpy_dataframe_train= np.array([x[2:6] for x in train1])\n",
    "\n",
    "numpy_dataframe_test= np.array([x[2:6] for x in test1])"
   ]
  },
  {
   "cell_type": "code",
   "execution_count": 23,
   "metadata": {},
   "outputs": [],
   "source": [
    "\n",
    "list_of_sentiments_score = []\n",
    "for date, row in train.T.iteritems():\n",
    "    sentiment_score = np.asarray([dataframe.loc[date, 'polarity']])\n",
    "    list_of_sentiments_score.append(sentiment_score)\n",
    "numpy_dataframe_train = np.asarray(list_of_sentiments_score)"
   ]
  },
  {
   "cell_type": "code",
   "execution_count": 24,
   "metadata": {},
   "outputs": [],
   "source": [
    "list_of_sentiments_score = []\n",
    "for date, row in test.T.iteritems():\n",
    "    sentiment_score = np.asarray([dataframe.loc[date, 'polarity']])\n",
    "    list_of_sentiments_score.append(sentiment_score)\n",
    "numpy_dataframe_test = np.asarray(list_of_sentiments_score)"
   ]
  },
  {
   "cell_type": "code",
   "execution_count": 25,
   "metadata": {},
   "outputs": [],
   "source": [
    "y_train = pd.DataFrame(train['percentchange'])\n",
    "#y_train=[91,91,91,92,91,92,91]\n",
    "y_test = pd.DataFrame(test['percentchange'])"
   ]
  },
  {
   "cell_type": "code",
   "execution_count": 26,
   "metadata": {},
   "outputs": [],
   "source": [
    "from sklearn.metrics import precision_score\n",
    "from sklearn.metrics import precision_recall_curve\n",
    "from sklearn.metrics import accuracy_score"
   ]
  },
  {
   "cell_type": "code",
   "execution_count": 27,
   "metadata": {},
   "outputs": [
    {
     "name": "stderr",
     "output_type": "stream",
     "text": [
      "C:\\Users\\prane\\.conda\\envs\\tensorflow\\lib\\site-packages\\sklearn\\ensemble\\forest.py:248: FutureWarning: The default value of n_estimators will change from 10 in version 0.20 to 100 in 0.22.\n",
      "  \"10 in version 0.20 to 100 in 0.22.\", FutureWarning)\n"
     ]
    },
    {
     "data": {
      "text/plain": [
       "0.45632250440797506"
      ]
     },
     "execution_count": 27,
     "metadata": {},
     "output_type": "execute_result"
    }
   ],
   "source": [
    "from treeinterpreter import treeinterpreter as ti\n",
    "from sklearn.tree import DecisionTreeRegressor\n",
    "from sklearn.ensemble import RandomForestRegressor\n",
    "from sklearn.metrics import classification_report,confusion_matrix\n",
    "\n",
    "rf = RandomForestRegressor()\n",
    "rf.fit(numpy_dataframe_train, y_train.values.ravel())\n",
    "prediction_tree, bias, contributions = ti.predict(rf, numpy_dataframe_test)\n",
    "prediction_rf = rf.predict(numpy_dataframe_test)\n",
    "rf.score(numpy_dataframe_train,y_train.values.ravel())"
   ]
  },
  {
   "cell_type": "code",
   "execution_count": 28,
   "metadata": {},
   "outputs": [
    {
     "data": {
      "text/plain": [
       "-1.8920124163547694"
      ]
     },
     "execution_count": 28,
     "metadata": {},
     "output_type": "execute_result"
    }
   ],
   "source": [
    "rf.score(numpy_dataframe_test,y_test)"
   ]
  },
  {
   "cell_type": "code",
   "execution_count": 29,
   "metadata": {},
   "outputs": [],
   "source": [
    "import matplotlib.pyplot as plt"
   ]
  },
  {
   "cell_type": "code",
   "execution_count": 30,
   "metadata": {},
   "outputs": [
    {
     "data": {
      "image/png": "[encoded data removed]",
      "text/plain": [
       "<Figure size 432x288 with 1 Axes>"
      ]
     },
     "metadata": {
      "needs_background": "light"
     },
     "output_type": "display_data"
    }
   ],
   "source": [
    "date_test = np.array([x[0] for x in test1])\n",
    "labels= ['sep18','aug18','jul17','jun17','may17','apr17','mar17','feb17',\n",
    "         'jan17','dec16','nov16','oct16','sep16']\n",
    "x_array = ['9/29/2017','8/31/2017','7/31/2017','6/30/2017','5/31/2017','4/29/2017','3/28/2017',\n",
    "           '2/28/2017','1/29/2017','12/30/2016','11/24/2016','10/29/2016','9/13/2016']\n",
    "plt.plot(date_test,y_test, label=\"actual\")\n",
    "plt.xticks(x_array,labels,rotation='vertical')\n",
    "plt.plot(date_test,prediction_rf, label=\"Predicted\")\n",
    "plt.xlabel('Date') \n",
    "plt.ylabel('Price change')\n",
    "plt.title('Random Forest')\n",
    "plt.legend()\n",
    "plt.show()"
   ]
  },
  {
   "cell_type": "code",
   "execution_count": 31,
   "metadata": {},
   "outputs": [],
   "source": [
    "from sklearn.neural_network import MLPRegressor\n",
    "mlpr = MLPRegressor(hidden_layer_sizes=(10,), activation='relu', \n",
    "                     solver='lbfgs', alpha=0.005, learning_rate_init = 0.001)\n",
    "mlpr.fit(numpy_dataframe_train, train['percentchange'])   \n",
    "prediction_mlp = mlpr.predict(numpy_dataframe_test)"
   ]
  },
  {
   "cell_type": "code",
   "execution_count": 32,
   "metadata": {},
   "outputs": [
    {
     "data": {
      "text/plain": [
       "-5.977229482301345"
      ]
     },
     "execution_count": 32,
     "metadata": {},
     "output_type": "execute_result"
    }
   ],
   "source": [
    "mlpr.score(numpy_dataframe_train, train['Prices'])"
   ]
  },
  {
   "cell_type": "code",
   "execution_count": 33,
   "metadata": {},
   "outputs": [
    {
     "data": {
      "text/plain": [
       "-20.811658723908433"
      ]
     },
     "execution_count": 33,
     "metadata": {},
     "output_type": "execute_result"
    }
   ],
   "source": [
    "mlpr.score(numpy_dataframe_test, test['Prices'])"
   ]
  },
  {
   "cell_type": "code",
   "execution_count": 34,
   "metadata": {},
   "outputs": [
    {
     "data": {
      "image/png": "[encoded data removed]",
      "text/plain": [
       "<Figure size 432x288 with 1 Axes>"
      ]
     },
     "metadata": {
      "needs_background": "light"
     },
     "output_type": "display_data"
    }
   ],
   "source": [
    "date_test = np.array([x[0] for x in test1])\n",
    "labels= ['sep17','aug17','jul17','jun17','may17','apr17','mar17','feb17',\n",
    "         'jan17','dec16','nov16','oct16','sep16']\n",
    "x_array = ['9/29/2017','8/31/2017','7/31/2017','6/30/2017','5/31/2017','4/29/2017','3/28/2017',\n",
    "           '2/28/2017','1/29/2017','12/30/2016','11/24/2016','10/29/2016','9/13/2016']\n",
    "plt.plot(date_test,y_test, label=\"actual\")\n",
    "plt.xticks(x_array,labels,rotation='vertical')\n",
    "plt.plot(date_test,prediction_mlp, label=\"Predicted\")\n",
    "plt.xlabel('Date') \n",
    "plt.ylabel('Price change')\n",
    "plt.title('MLP Regressor')\n",
    "plt.legend()\n",
    "plt.show()"
   ]
  },
  {
   "cell_type": "code",
   "execution_count": 35,
   "metadata": {},
   "outputs": [
    {
     "data": {
      "text/plain": [
       "-0.00046942548345740853"
      ]
     },
     "execution_count": 35,
     "metadata": {},
     "output_type": "execute_result"
    }
   ],
   "source": [
    "from sklearn import datasets\n",
    "from datetime import datetime, timedelta\n",
    "from sklearn.naive_bayes import GaussianNB\n",
    "from sklearn import datasets, linear_model\n",
    "from sklearn.metrics import mean_squared_error, r2_score\n",
    "\n",
    "regr = linear_model.LinearRegression()\n",
    "regr.fit(numpy_dataframe_train, train['percentchange'])   \n",
    "prediction_linear = regr.predict(numpy_dataframe_test)\n",
    "regr.score(numpy_dataframe_test,y_test)"
   ]
  },
  {
   "cell_type": "code",
   "execution_count": 36,
   "metadata": {},
   "outputs": [
    {
     "data": {
      "image/png": "[encoded data removed]",
      "text/plain": [
       "<Figure size 432x288 with 1 Axes>"
      ]
     },
     "metadata": {
      "needs_background": "light"
     },
     "output_type": "display_data"
    }
   ],
   "source": [
    "date_test = np.array([x[0] for x in test1])\n",
    "labels= ['sep17','aug17','jul17','jun17','may17','apr17','mar17','feb17',\n",
    "         'jan17','dec16','nov16','oct16','sep16']\n",
    "x_array = ['9/29/2017','8/31/2017','7/31/2017','6/30/2017','5/31/2017','4/29/2017','3/28/2017',\n",
    "           '2/28/2017','1/29/2017','12/30/2016','11/24/2016','10/29/2016','9/13/2016']\n",
    "plt.plot(date_test,y_test, label=\"actual\")\n",
    "plt.xticks(x_array,labels,rotation='vertical')\n",
    "plt.plot(date_test,prediction_linear, label=\"Predicted\")\n",
    "plt.xlabel('Date') \n",
    "plt.ylabel('Price change')\n",
    "plt.title('Linear Regression')\n",
    "plt.legend()\n",
    "plt.show()"
   ]
  },
  {
   "cell_type": "code",
   "execution_count": null,
   "metadata": {},
   "outputs": [],
   "source": []
  }
 ],
 "metadata": {
  "kernelspec": {
   "display_name": "Python 3",
   "language": "python",
   "name": "python3"
  },
  "language_info": {
   "codemirror_mode": {
    "name": "ipython",
    "version": 3
   },
   "file_extension": ".py",
   "mimetype": "text/x-python",
   "name": "python",
   "nbconvert_exporter": "python",
   "pygments_lexer": "ipython3",
   "version": "3.6.10"
  }
 },
 "nbformat": 4,
 "nbformat_minor": 4
}
